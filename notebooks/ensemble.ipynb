{
 "cells": [
  {
   "cell_type": "code",
   "execution_count": 245,
   "metadata": {},
   "outputs": [],
   "source": [
    "import os\n",
    "import pandas as pd\n",
    "from scipy.stats import pearsonr\n",
    "import numpy as np\n",
    "import json\n",
    "import torch.nn.functional as F\n",
    "import torch\n",
    "import random\n",
    "from tqdm import tqdm_notebook as tqdm"
   ]
  },
  {
   "cell_type": "code",
   "execution_count": 339,
   "metadata": {},
   "outputs": [],
   "source": [
    "output_dir = '/home/dc925/project/medsts/output/final_first_batch'\n",
    "\n",
    "clinicalbert_outputs = os.path.join(output_dir, 'clinicalbert_outputs')\n",
    "ncbibert_outputs = os.path.join(output_dir, 'ncbi_bert_outputs')\n",
    "scibert_outputs = os.path.join(output_dir, 'scibert_outputs')\n",
    "mtdnnbase_outputs = os.path.join(output_dir, 'mt_dnn_base_outputs')"
   ]
  },
  {
   "cell_type": "code",
   "execution_count": 340,
   "metadata": {},
   "outputs": [],
   "source": [
    "clinicalbert_runs = [os.path.join(clinicalbert_outputs, r) for r in os.listdir(clinicalbert_outputs) if r.startswith('run')]\n",
    "ncbibert_runs = [os.path.join(ncbibert_outputs, r) for r in os.listdir(ncbibert_outputs) if r.startswith('run')]\n",
    "scibert_runs = [os.path.join(scibert_outputs, r) for r in os.listdir(scibert_outputs) if r.startswith('run')]\n",
    "mtdnnbase_runs = [os.path.join(mtdnnbase_outputs, r) for r in os.listdir(mtdnnbase_outputs) if r.startswith('run')]\n"
   ]
  },
  {
   "cell_type": "code",
   "execution_count": 248,
   "metadata": {},
   "outputs": [],
   "source": [
    "output_dir2 = '/home/dc925/project/medsts/output/final_second_batch'"
   ]
  },
  {
   "cell_type": "code",
   "execution_count": 249,
   "metadata": {},
   "outputs": [],
   "source": [
    "clinicalbert_outputs_2 = os.path.join(output_dir2, 'clinicalbert_outputs')\n",
    "ncbibert_outputs_2 = os.path.join(output_dir2, 'ncbi_bert_outputs')\n",
    "scibert_outputs_2 = os.path.join(output_dir2, 'scibert_outputs')\n",
    "mtdnnbase_outputs_2 = os.path.join(output_dir2, 'mt_dnn_base_outputs')\n",
    "clinicalbert_runs_2 = [os.path.join(clinicalbert_outputs_2, r) for r in os.listdir(clinicalbert_outputs_2) if r.startswith('run')]\n",
    "ncbibert_runs_2 = [os.path.join(ncbibert_outputs_2, r) for r in os.listdir(ncbibert_outputs_2) if r.startswith('run')]\n",
    "scibert_runs_2 = [os.path.join(scibert_outputs_2, r) for r in os.listdir(scibert_outputs_2) if r.startswith('run')]\n",
    "mtdnnbase_runs_2 = [os.path.join(mtdnnbase_outputs_2, r) for r in os.listdir(mtdnnbase_outputs_2) if r.startswith('run')]"
   ]
  },
  {
   "cell_type": "code",
   "execution_count": 382,
   "metadata": {},
   "outputs": [],
   "source": [
    "output_dir3 = '/home/dc925/project/medsts/output/aux'\n",
    "clinicalbert_outputs_aux = os.path.join(output_dir3, 'clinicalbert_aux_outputs')\n",
    "ncbibert_outputs_aux = os.path.join(output_dir3, 'ncbi_bert_aux_outputs')\n",
    "scibert_outputs_aux = os.path.join(output_dir3, 'scibert_aux_outputs')\n",
    "mtdnnbase_outputs_aux = os.path.join(output_dir3, 'mt_dnn_base_aux_outputs')\n",
    "clinicalbert_runs_aux = [os.path.join(clinicalbert_outputs_aux, r) for r in os.listdir(clinicalbert_outputs_aux) if r.startswith('run')]\n",
    "ncbibert_runs_aux = [os.path.join(ncbibert_outputs_aux, r) for r in os.listdir(ncbibert_outputs_aux) if r.startswith('run')]\n",
    "scibert_runs_aux = [os.path.join(scibert_outputs_aux, r) for r in os.listdir(scibert_outputs_aux) if r.startswith('run')]\n",
    "mtdnnbase_runs_aux = [os.path.join(mtdnnbase_outputs_aux, r) for r in os.listdir(mtdnnbase_outputs_aux) if r.startswith('run')]"
   ]
  },
  {
   "cell_type": "code",
   "execution_count": 383,
   "metadata": {},
   "outputs": [],
   "source": [
    "all_runs =  clinicalbert_runs_aux + ncbibert_runs_aux + scibert_runs_aux + mtdnnbase_runs_aux #clinicalbert_runs + mtdnnbase_runs + scibert_runs + ncbibert_runs #+clinicalbert_runs_2 + ncbibert_runs_2 + scibert_runs_2 + mtdnnbase_runs_2 #+ clinicalbert_runs_aux\n",
    "#     ncbibert_runs_aux + scibert_runs_aux + mtdnnbase_runs_aux \n",
    "\n",
    "\n"
   ]
  },
  {
   "cell_type": "code",
   "execution_count": 392,
   "metadata": {},
   "outputs": [],
   "source": [
    "folds = [0, 1, 2, 3, 4]\n",
    "kfold_model_outputs = []\n",
    "for k in folds:\n",
    "    outputs = [os.path.join(r, 'k_fold_{}'.format(k)) for r in all_runs]\n",
    "    kfold_model_outputs.append(outputs)"
   ]
  },
  {
   "cell_type": "code",
   "execution_count": 393,
   "metadata": {},
   "outputs": [
    {
     "data": {
      "text/plain": [
       "64"
      ]
     },
     "execution_count": 393,
     "metadata": {},
     "output_type": "execute_result"
    }
   ],
   "source": [
    "len(kfold_model_outputs[0])"
   ]
  },
  {
   "cell_type": "code",
   "execution_count": 394,
   "metadata": {},
   "outputs": [],
   "source": [
    "tables = []\n"
   ]
  },
  {
   "cell_type": "code",
   "execution_count": 395,
   "metadata": {},
   "outputs": [],
   "source": [
    "all_topmodels = []"
   ]
  },
  {
   "cell_type": "code",
   "execution_count": 420,
   "metadata": {},
   "outputs": [],
   "source": [
    "k = 4"
   ]
  },
  {
   "cell_type": "code",
   "execution_count": 421,
   "metadata": {},
   "outputs": [
    {
     "name": "stdout",
     "output_type": "stream",
     "text": [
      "4 \t 0.8626613808154351\n",
      "8 \t 0.86596166942313\n",
      "10 \t 0.8677331443742552\n",
      "0.8677331443742552\n",
      "10\n"
     ]
    }
   ],
   "source": [
    "best_val = 0\n",
    "best_n = 0\n",
    "for n in range(4, len(all_runs) * 2 // 5, 2):\n",
    "    errors_paths = [os.path.join(p, 'checkpoint/errors.csv') for p in kfold_model_outputs[k]]\n",
    "    dfs = [pd.read_csv(ep).sort_values(by='pid').set_index('pid') for ep in errors_paths]\n",
    "    ensemble_table = pd.concat([dfs[0]['label'], dfs[0]['sent1'], dfs[0]['sent2']], axis=1)\n",
    "    for i in range(len(dfs)):\n",
    "        ensemble_table['pred{}'.format(i)] = dfs[i]['pred']\n",
    "    top_cols = ensemble_table.corr().sort_values(by='label', axis=1, ascending=False).columns[1:n+1]\n",
    "    \n",
    "    ensemble_table['ensemble'] = ensemble_table[top_cols].mean(axis=1)\n",
    "    val = ensemble_table.corr().iloc[0,-1:].item()\n",
    "    if val > best_val:\n",
    "        best_val = val\n",
    "        best_n = n\n",
    "        top_models = top_cols\n",
    "        print('{} \\t {}'.format(best_n, best_val))\n",
    "print(best_val)\n",
    "print(best_n)\n",
    "top_cols = ensemble_table.corr().sort_values(by='label', axis=1, ascending=False).columns[1:best_n+1]\n",
    "ensemble_table['ensemble'] = ensemble_table[top_cols].mean(axis=1)\n",
    "tables.append(ensemble_table)"
   ]
  },
  {
   "cell_type": "code",
   "execution_count": 422,
   "metadata": {},
   "outputs": [],
   "source": [
    "top_models_index = [int(s.split('d')[1]) for s in top_models]"
   ]
  },
  {
   "cell_type": "code",
   "execution_count": 423,
   "metadata": {},
   "outputs": [],
   "source": [
    "topmodel_paths = [kfold_model_outputs[k][i] for i in top_models_index]"
   ]
  },
  {
   "cell_type": "code",
   "execution_count": 424,
   "metadata": {},
   "outputs": [],
   "source": [
    "all_topmodels += topmodel_paths"
   ]
  },
  {
   "cell_type": "code",
   "execution_count": 425,
   "metadata": {},
   "outputs": [
    {
     "data": {
      "text/plain": [
       "['/home/dc925/project/medsts/output/aux/ncbi_bert_aux_outputs/run_6/k_fold_0',\n",
       " '/home/dc925/project/medsts/output/aux/ncbi_bert_aux_outputs/run_7/k_fold_0',\n",
       " '/home/dc925/project/medsts/output/aux/scibert_aux_outputs/run_8/k_fold_0',\n",
       " '/home/dc925/project/medsts/output/aux/scibert_aux_outputs/run_9/k_fold_0',\n",
       " '/home/dc925/project/medsts/output/aux/ncbi_bert_aux_outputs/run_3/k_fold_0',\n",
       " '/home/dc925/project/medsts/output/aux/scibert_aux_outputs/run_13/k_fold_0',\n",
       " '/home/dc925/project/medsts/output/aux/scibert_aux_outputs/run_5/k_fold_0',\n",
       " '/home/dc925/project/medsts/output/aux/scibert_aux_outputs/run_7/k_fold_0',\n",
       " '/home/dc925/project/medsts/output/aux/scibert_aux_outputs/run_1/k_fold_0',\n",
       " '/home/dc925/project/medsts/output/aux/scibert_aux_outputs/run_12/k_fold_0',\n",
       " '/home/dc925/project/medsts/output/aux/ncbi_bert_aux_outputs/run_4/k_fold_0',\n",
       " '/home/dc925/project/medsts/output/aux/ncbi_bert_aux_outputs/run_0/k_fold_0',\n",
       " '/home/dc925/project/medsts/output/aux/clinicalbert_aux_outputs/run_8/k_fold_0',\n",
       " '/home/dc925/project/medsts/output/aux/ncbi_bert_aux_outputs/run_5/k_fold_0',\n",
       " '/home/dc925/project/medsts/output/aux/mt_dnn_base_aux_outputs/run_14/k_fold_0',\n",
       " '/home/dc925/project/medsts/output/aux/scibert_aux_outputs/run_3/k_fold_0',\n",
       " '/home/dc925/project/medsts/output/aux/clinicalbert_aux_outputs/run_5/k_fold_0',\n",
       " '/home/dc925/project/medsts/output/aux/clinicalbert_aux_outputs/run_1/k_fold_0',\n",
       " '/home/dc925/project/medsts/output/aux/clinicalbert_aux_outputs/run_15/k_fold_2',\n",
       " '/home/dc925/project/medsts/output/aux/scibert_aux_outputs/run_10/k_fold_2',\n",
       " '/home/dc925/project/medsts/output/aux/scibert_aux_outputs/run_11/k_fold_2',\n",
       " '/home/dc925/project/medsts/output/aux/mt_dnn_base_aux_outputs/run_10/k_fold_2',\n",
       " '/home/dc925/project/medsts/output/aux/clinicalbert_aux_outputs/run_14/k_fold_2',\n",
       " '/home/dc925/project/medsts/output/aux/scibert_aux_outputs/run_6/k_fold_2',\n",
       " '/home/dc925/project/medsts/output/aux/mt_dnn_base_aux_outputs/run_15/k_fold_1',\n",
       " '/home/dc925/project/medsts/output/aux/mt_dnn_base_aux_outputs/run_9/k_fold_1',\n",
       " '/home/dc925/project/medsts/output/aux/mt_dnn_base_aux_outputs/run_14/k_fold_1',\n",
       " '/home/dc925/project/medsts/output/aux/mt_dnn_base_aux_outputs/run_8/k_fold_1',\n",
       " '/home/dc925/project/medsts/output/aux/clinicalbert_aux_outputs/run_4/k_fold_3',\n",
       " '/home/dc925/project/medsts/output/aux/clinicalbert_aux_outputs/run_5/k_fold_3',\n",
       " '/home/dc925/project/medsts/output/aux/ncbi_bert_aux_outputs/run_13/k_fold_3',\n",
       " '/home/dc925/project/medsts/output/aux/ncbi_bert_aux_outputs/run_12/k_fold_3',\n",
       " '/home/dc925/project/medsts/output/aux/mt_dnn_base_aux_outputs/run_14/k_fold_4',\n",
       " '/home/dc925/project/medsts/output/aux/mt_dnn_base_aux_outputs/run_12/k_fold_4',\n",
       " '/home/dc925/project/medsts/output/aux/mt_dnn_base_aux_outputs/run_13/k_fold_4',\n",
       " '/home/dc925/project/medsts/output/aux/mt_dnn_base_aux_outputs/run_10/k_fold_4',\n",
       " '/home/dc925/project/medsts/output/aux/mt_dnn_base_aux_outputs/run_11/k_fold_4',\n",
       " '/home/dc925/project/medsts/output/aux/mt_dnn_base_aux_outputs/run_2/k_fold_4',\n",
       " '/home/dc925/project/medsts/output/aux/ncbi_bert_aux_outputs/run_8/k_fold_4',\n",
       " '/home/dc925/project/medsts/output/aux/mt_dnn_base_aux_outputs/run_15/k_fold_4',\n",
       " '/home/dc925/project/medsts/output/aux/ncbi_bert_aux_outputs/run_9/k_fold_4',\n",
       " '/home/dc925/project/medsts/output/aux/mt_dnn_base_aux_outputs/run_4/k_fold_4']"
      ]
     },
     "execution_count": 425,
     "metadata": {},
     "output_type": "execute_result"
    }
   ],
   "source": [
    "all_topmodels"
   ]
  },
  {
   "cell_type": "code",
   "execution_count": 426,
   "metadata": {},
   "outputs": [],
   "source": [
    "final_list = [''.join(p.split('/')[-3:-1]) for p in all_topmodels]"
   ]
  },
  {
   "cell_type": "code",
   "execution_count": 432,
   "metadata": {},
   "outputs": [],
   "source": [
    "from collections import Counter"
   ]
  },
  {
   "cell_type": "code",
   "execution_count": 433,
   "metadata": {},
   "outputs": [],
   "source": [
    "c = Counter(final_list)"
   ]
  },
  {
   "cell_type": "code",
   "execution_count": 434,
   "metadata": {},
   "outputs": [
    {
     "data": {
      "text/plain": [
       "[('mt_dnn_base_aux_outputsrun_14', 3),\n",
       " ('clinicalbert_aux_outputsrun_5', 2),\n",
       " ('mt_dnn_base_aux_outputsrun_10', 2),\n",
       " ('mt_dnn_base_aux_outputsrun_15', 2),\n",
       " ('ncbi_bert_aux_outputsrun_6', 1),\n",
       " ('ncbi_bert_aux_outputsrun_7', 1),\n",
       " ('scibert_aux_outputsrun_8', 1),\n",
       " ('scibert_aux_outputsrun_9', 1),\n",
       " ('ncbi_bert_aux_outputsrun_3', 1),\n",
       " ('scibert_aux_outputsrun_13', 1)]"
      ]
     },
     "execution_count": 434,
     "metadata": {},
     "output_type": "execute_result"
    }
   ],
   "source": [
    "c.most_common(10)"
   ]
  },
  {
   "cell_type": "code",
   "execution_count": null,
   "metadata": {},
   "outputs": [],
   "source": []
  },
  {
   "cell_type": "code",
   "execution_count": 435,
   "metadata": {},
   "outputs": [],
   "source": [
    "final_list_full = [','.join(''.join(p.split('/')[-3:]).split('k_')) for p in all_topmodels]"
   ]
  },
  {
   "cell_type": "code",
   "execution_count": 436,
   "metadata": {},
   "outputs": [
    {
     "data": {
      "text/plain": [
       "['ncbi_bert_aux_outputsrun_6,fold_0',\n",
       " 'ncbi_bert_aux_outputsrun_7,fold_0',\n",
       " 'scibert_aux_outputsrun_8,fold_0',\n",
       " 'scibert_aux_outputsrun_9,fold_0',\n",
       " 'ncbi_bert_aux_outputsrun_3,fold_0',\n",
       " 'scibert_aux_outputsrun_13,fold_0',\n",
       " 'scibert_aux_outputsrun_5,fold_0',\n",
       " 'scibert_aux_outputsrun_7,fold_0',\n",
       " 'scibert_aux_outputsrun_1,fold_0',\n",
       " 'scibert_aux_outputsrun_12,fold_0',\n",
       " 'ncbi_bert_aux_outputsrun_4,fold_0',\n",
       " 'ncbi_bert_aux_outputsrun_0,fold_0',\n",
       " 'clinicalbert_aux_outputsrun_8,fold_0',\n",
       " 'ncbi_bert_aux_outputsrun_5,fold_0',\n",
       " 'mt_dnn_base_aux_outputsrun_14,fold_0',\n",
       " 'scibert_aux_outputsrun_3,fold_0',\n",
       " 'clinicalbert_aux_outputsrun_5,fold_0',\n",
       " 'clinicalbert_aux_outputsrun_1,fold_0',\n",
       " 'clinicalbert_aux_outputsrun_15,fold_2',\n",
       " 'scibert_aux_outputsrun_10,fold_2',\n",
       " 'scibert_aux_outputsrun_11,fold_2',\n",
       " 'mt_dnn_base_aux_outputsrun_10,fold_2',\n",
       " 'clinicalbert_aux_outputsrun_14,fold_2',\n",
       " 'scibert_aux_outputsrun_6,fold_2',\n",
       " 'mt_dnn_base_aux_outputsrun_15,fold_1',\n",
       " 'mt_dnn_base_aux_outputsrun_9,fold_1',\n",
       " 'mt_dnn_base_aux_outputsrun_14,fold_1',\n",
       " 'mt_dnn_base_aux_outputsrun_8,fold_1',\n",
       " 'clinicalbert_aux_outputsrun_4,fold_3',\n",
       " 'clinicalbert_aux_outputsrun_5,fold_3',\n",
       " 'ncbi_bert_aux_outputsrun_13,fold_3',\n",
       " 'ncbi_bert_aux_outputsrun_12,fold_3',\n",
       " 'mt_dnn_base_aux_outputsrun_14,fold_4',\n",
       " 'mt_dnn_base_aux_outputsrun_12,fold_4',\n",
       " 'mt_dnn_base_aux_outputsrun_13,fold_4',\n",
       " 'mt_dnn_base_aux_outputsrun_10,fold_4',\n",
       " 'mt_dnn_base_aux_outputsrun_11,fold_4',\n",
       " 'mt_dnn_base_aux_outputsrun_2,fold_4',\n",
       " 'ncbi_bert_aux_outputsrun_8,fold_4',\n",
       " 'mt_dnn_base_aux_outputsrun_15,fold_4',\n",
       " 'ncbi_bert_aux_outputsrun_9,fold_4',\n",
       " 'mt_dnn_base_aux_outputsrun_4,fold_4']"
      ]
     },
     "execution_count": 436,
     "metadata": {},
     "output_type": "execute_result"
    }
   ],
   "source": [
    "final_list_full"
   ]
  },
  {
   "cell_type": "code",
   "execution_count": null,
   "metadata": {},
   "outputs": [],
   "source": []
  },
  {
   "cell_type": "code",
   "execution_count": null,
   "metadata": {},
   "outputs": [],
   "source": []
  }
 ],
 "metadata": {
  "kernelspec": {
   "display_name": "Python 3",
   "language": "python",
   "name": "python3"
  },
  "language_info": {
   "codemirror_mode": {
    "name": "ipython",
    "version": 3
   },
   "file_extension": ".py",
   "mimetype": "text/x-python",
   "name": "python",
   "nbconvert_exporter": "python",
   "pygments_lexer": "ipython3",
   "version": "3.6.8"
  }
 },
 "nbformat": 4,
 "nbformat_minor": 2
}
