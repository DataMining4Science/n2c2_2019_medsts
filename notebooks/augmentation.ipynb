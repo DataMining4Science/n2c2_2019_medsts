{
 "cells": [
  {
   "cell_type": "code",
   "execution_count": 363,
   "metadata": {},
   "outputs": [],
   "source": [
    "import json\n",
    "import csv\n",
    "import os\n",
    "import pandas as pd\n",
    "import re\n",
    "import numpy as np\n",
    "import pickle"
   ]
  },
  {
   "cell_type": "code",
   "execution_count": 419,
   "metadata": {},
   "outputs": [],
   "source": [
    "data_dir = '/home/dc925/project/data/seq_pair/MEDSTS/k_fold_0'"
   ]
  },
  {
   "cell_type": "code",
   "execution_count": 420,
   "metadata": {},
   "outputs": [
    {
     "data": {
      "text/plain": [
       "'/home/dc925/project/data/seq_pair/MEDSTS/k_fold_2'"
      ]
     },
     "execution_count": 420,
     "metadata": {},
     "output_type": "execute_result"
    }
   ],
   "source": [
    "data_dir"
   ]
  },
  {
   "cell_type": "code",
   "execution_count": 421,
   "metadata": {},
   "outputs": [],
   "source": [
    "## read in filtered metamap mappings\n",
    "dev_mapping_path = 'filtered_dev.p'\n",
    "train_mapping_path = 'filtered_train.p'"
   ]
  },
  {
   "cell_type": "code",
   "execution_count": 422,
   "metadata": {},
   "outputs": [],
   "source": [
    "with open(os.path.join(data_dir, dev_mapping_path), 'rb') as f:\n",
    "    dev_mapping = pickle.load(f)\n",
    "with open(os.path.join(data_dir, train_mapping_path), 'rb') as f:\n",
    "    train_mapping = pickle.load(f)\n"
   ]
  },
  {
   "cell_type": "code",
   "execution_count": 423,
   "metadata": {},
   "outputs": [],
   "source": [
    "## read in original sentence dataset\n",
    "dev_path = os.path.join(data_dir, 'dev.jsonl')\n",
    "train_path = os.path.join(data_dir, 'train.jsonl')"
   ]
  },
  {
   "cell_type": "code",
   "execution_count": 424,
   "metadata": {},
   "outputs": [],
   "source": [
    "with open(dev_path, 'r') as f:\n",
    "    dev = []\n",
    "    for line in f:\n",
    "        example = json.loads(line)\n",
    "        dev.append(example)\n",
    "with open(train_path, 'r') as f:\n",
    "    train = []\n",
    "    for line in f:\n",
    "        example = json.loads(line)\n",
    "        train.append(example)"
   ]
  },
  {
   "cell_type": "code",
   "execution_count": 425,
   "metadata": {},
   "outputs": [],
   "source": [
    "banned_words = ['contextual', 'qualifier', 'value', 'action', '-', 'patients', 'of', 'person', 'feels', 'time', 'to', \\\n",
    "               'contents', 'escalation', 'cavity', 'region', 'medical', 'discussion', 'procedure', 'unit', 'dose', 'appearance', \\\n",
    "               'feelings', 'has', 'does', 'finding', 'function', 'in', 'qualitative', 'changing', 'publication', 'educational', \\\n",
    "                'by', 'for', 'with', 'from', 'continuous', 'transducers', 'process', 'needs', 'individual', 'reporting', 'chief', \\\n",
    "               'relationships', '6', '10', 'syncytial', 'human', 'masks', 'muscle', 'training', 'virus',]\n",
    "               "
   ]
  },
  {
   "cell_type": "code",
   "execution_count": 426,
   "metadata": {},
   "outputs": [],
   "source": [
    "def extract_strings(mappings, sentence):\n",
    "    strings = []\n",
    "    for phrase in mappings:\n",
    "        if phrase['mapping']:\n",
    "            for m in phrase['mapping']:\n",
    "                text = m['preferred'].lower().split()\n",
    "                strings += text\n",
    "                \n",
    "                if 'Clinical Drug' in m['semtypes']:\n",
    "                    strings += ['clinical drug']\n",
    "                if 'Pharmacologic Substance' in m['semtypes']:\n",
    "                    strings += ['pharmacologic substance']\n",
    "    out = \" \".join(strings)\n",
    "    out = re.sub(r'[^\\w\\s]', ' ', out)\n",
    "    out = out.split()\n",
    "    out = [t for t in out if t not in banned_words and t not in sentence]\n",
    "    out = list(set(out))\n",
    "    out = \" \".join(out)\n",
    "    return out"
   ]
  },
  {
   "cell_type": "code",
   "execution_count": 427,
   "metadata": {},
   "outputs": [],
   "source": [
    "def augment_sentences(mm_output, data):\n",
    "    assert len(mm_output) == len(data)*2\n",
    "    i = 0\n",
    "    j = 0\n",
    "    augment_strings = []\n",
    "    while i < len(mm_output)-1:\n",
    "        aug = extract_strings(mm_output[i], data[j]['sentence1'])\n",
    "        data[j]['augment1'] = aug\n",
    "        i += 1\n",
    "        aug = extract_strings(mm_output[i], data[j]['sentence2'])\n",
    "        data[j]['augment2'] = aug\n",
    "        i += 1\n",
    "        j += 1"
   ]
  },
  {
   "cell_type": "code",
   "execution_count": 428,
   "metadata": {},
   "outputs": [
    {
     "data": {
      "text/plain": [
       "{'sentence1': 'neurologic: alert and oriented x 3, normal strength and tone.',\n",
       " 'sentence2': 'male, alert and oriented in no apparent distress.',\n",
       " 'label': 4.5,\n",
       " 'pid': 1294,\n",
       " 'label_c': 2,\n",
       " 'label_type': 0}"
      ]
     },
     "execution_count": 428,
     "metadata": {},
     "output_type": "execute_result"
    }
   ],
   "source": [
    "dev[0]"
   ]
  },
  {
   "cell_type": "code",
   "execution_count": 429,
   "metadata": {},
   "outputs": [
    {
     "data": {
      "text/plain": [
       "[{'text': 'neurologic alert and oriented x normal strength and tone',\n",
       "  'mapping': [{'cui': 'C0577134',\n",
       "    'preferred': 'Normal abdominal muscle tone',\n",
       "    'semtypes': ['Finding'],\n",
       "    'in_cui2vec': False},\n",
       "   {'cui': 'C0205494',\n",
       "    'preferred': 'Neurologic (qualifier value)',\n",
       "    'semtypes': ['Qualitative Concept'],\n",
       "    'in_cui2vec': True},\n",
       "   {'cui': 'C0239110',\n",
       "    'preferred': 'Consciousness clear',\n",
       "    'semtypes': ['Finding'],\n",
       "    'in_cui2vec': False},\n",
       "   {'cui': 'C1961028',\n",
       "    'preferred': 'Oriented to place',\n",
       "    'semtypes': ['Finding'],\n",
       "    'in_cui2vec': True},\n",
       "   {'cui': 'C0442821',\n",
       "    'preferred': 'Strong',\n",
       "    'semtypes': ['Qualitative Concept'],\n",
       "    'in_cui2vec': True}]}]"
      ]
     },
     "execution_count": 429,
     "metadata": {},
     "output_type": "execute_result"
    }
   ],
   "source": [
    "dev_mapping[0]"
   ]
  },
  {
   "cell_type": "code",
   "execution_count": 430,
   "metadata": {},
   "outputs": [
    {
     "name": "stdout",
     "output_type": "stream",
     "text": [
      "656\n",
      "328\n",
      "2628\n",
      "1314\n"
     ]
    }
   ],
   "source": [
    "augment_sentences(dev_mapping, dev)\n",
    "augment_sentences(train_mapping, train)"
   ]
  },
  {
   "cell_type": "code",
   "execution_count": 431,
   "metadata": {},
   "outputs": [],
   "source": [
    "with open(dev_path, 'w') as f:\n",
    "    for line in dev:\n",
    "        json.dump(line, fp=f)\n",
    "        f.write('\\n')\n",
    "with open(train_path, 'w') as f:\n",
    "    for line in train:\n",
    "        json.dump(line, fp=f)\n",
    "        f.write('\\n')"
   ]
  },
  {
   "cell_type": "code",
   "execution_count": null,
   "metadata": {},
   "outputs": [],
   "source": []
  },
  {
   "cell_type": "code",
   "execution_count": null,
   "metadata": {},
   "outputs": [],
   "source": []
  }
 ],
 "metadata": {
  "kernelspec": {
   "display_name": "Python 3",
   "language": "python",
   "name": "python3"
  },
  "language_info": {
   "codemirror_mode": {
    "name": "ipython",
    "version": 3
   },
   "file_extension": ".py",
   "mimetype": "text/x-python",
   "name": "python",
   "nbconvert_exporter": "python",
   "pygments_lexer": "ipython3",
   "version": "3.6.8"
  }
 },
 "nbformat": 4,
 "nbformat_minor": 2
}
