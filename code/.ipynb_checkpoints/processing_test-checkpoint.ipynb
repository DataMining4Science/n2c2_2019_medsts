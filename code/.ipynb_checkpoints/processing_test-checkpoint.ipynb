{
 "cells": [
  {
   "cell_type": "code",
   "execution_count": 1,
   "metadata": {},
   "outputs": [],
   "source": [
    "import csv\n",
    "import json\n",
    "import os\n",
    "import argparse\n",
    "import logging\n",
    "import random\n",
    "import numpy as np\n",
    "import re\n"
   ]
  },
  {
   "cell_type": "code",
   "execution_count": 4,
   "metadata": {},
   "outputs": [],
   "source": [
    "random.seed(5)\n",
    "medsts_path = '/home/dc925/project/data/seq_pair/MEDSTS'\n",
    "type_annotation = os.path.join(medsts_path, 'annotated_data.csv')"
   ]
  },
  {
   "cell_type": "code",
   "execution_count": 8,
   "metadata": {},
   "outputs": [],
   "source": [
    "\n",
    "\n",
    "def preprocess_medsts(medsts_path):\n",
    "    original = os.path.join(medsts_path, 'test.txt')\n",
    "    original_out = os.path.join(medsts_path, 'test.jsonl')\n",
    "\n",
    "    type_labels_map = {'condition': 0, 'interaction':1, 'medication': 2, 'misc': 3}\n",
    "    type_labels = {}\n",
    "    with open(type_annotation, 'r') as f:\n",
    "        reader = csv.reader(f)\n",
    "        for line in reader:\n",
    "            type_labels[line[0]] = line[4]\n",
    "        type_labels.pop('')\n",
    "\n",
    "    with open(original, 'r') as f:\n",
    "        reader = csv.reader(f, delimiter='\\t')\n",
    "        lines = []\n",
    "        # lines_c = []\n",
    "        for i, line in enumerate(reader):\n",
    "            sent1 = preprocess_text(line[0])\n",
    "            sent2 = preprocess_text(line[1])\n",
    "            lines.append({'sentence1':sent1,'sentence2':sent2})\n",
    "\n",
    "#     random.shuffle(lines)\n",
    "    with open(original_out, 'w') as writer:\n",
    "        for line in lines:\n",
    "            json.dump(line, fp=writer)\n",
    "            writer.write(\"\\n\")\n"
   ]
  },
  {
   "cell_type": "code",
   "execution_count": 9,
   "metadata": {},
   "outputs": [],
   "source": [
    "def preprocess_text(sent):\n",
    "    sent = sent.lower()\n",
    "    sent = re.sub(r'[\\d]*', '', sent)\n",
    "    sent = re.sub(r'[^\\w\\s]', ' ', sent)\n",
    "\n",
    "\n",
    "    return sent\n",
    "\n",
    "preprocess_medsts(medsts_path)"
   ]
  },
  {
   "cell_type": "code",
   "execution_count": 10,
   "metadata": {},
   "outputs": [],
   "source": [
    "## METAMAP UTIL"
   ]
  },
  {
   "cell_type": "code",
   "execution_count": null,
   "metadata": {},
   "outputs": [],
   "source": [
    "\n",
    "def generate_metamap_input_files_clean(data_dir):\n",
    "    test_file = os.path.join(data_dir, 'test.jsonl')\n",
    "    test_mm_input_file = os.path.join(data_dir, 'test_mm_input.txt')\n",
    "\n",
    "    with open(test_file, 'r') as f:\n",
    "        lines = []\n",
    "        for line in f:\n",
    "            example = json.loads(line)\n",
    "            sentence1 = preprocess_mm_input(example['sentence1'])\n",
    "            sentence2 = preprocess_mm_input(example['sentence2'])\n",
    "            lines.append(sentence1)\n",
    "            lines.append(sentence2)\n",
    "    with open(test_mm_input_file, 'w') as writer:\n",
    "        for line in lines:\n",
    "            writer.write(line)\n",
    "            writer.write('\\n')\n",
    "            writer.write('\\n')\n",
    "        writer.write('\\n')\n",
    "\n",
    "def preprocess_mm_input(sent):\n",
    "    digit_to_word = {'0': 'zero', '1': 'one', '2': 'two', '3': 'three', '4':'four','5':'five',\n",
    "                     '6':'six','7':'seven','8':'eight','9':'nine', '10': 'ten'}\n",
    "    stopwords = ['mg','mcg','ml', 'liter', \"tablets\", \"tablet\",'capsules', 'capsule']\n",
    "    sent = sent.lower()\n",
    "    nums = re.findall(r'\\s[0-9]\\s', sent)\n",
    "    nums = [num.strip() for num in nums]\n",
    "    for num in nums:\n",
    "        sent = sent.replace(num, digit_to_word[num])\n",
    "    sent = re.sub(r'[^\\w\\s]', ' ', sent) #dash should be replace w a space to prevent collapsing separate terms, that confuses metamap\n",
    "    filter_words = re.compile('|'.join(map(re.escape, stopwords)))\n",
    "    sent = filter_words.sub('', sent)\n",
    "    sent = re.sub(r'[\\d]*', '', sent)\n",
    "    sent = re.sub(r'[\\s]+', ' ', sent)\n",
    "    sent = re.sub('male and female', 'male and female,', sent)\n",
    "    sent = re.sub('location', ', location,', sent)\n",
    "    sent = re.sub('discussed', 'discussion', sent)\n",
    "    sent = re.sub('discussing', 'discussion', sent)\n",
    "    sent = re.sub('discuss ', 'discussion', sent)\n",
    "    sent = re.sub('as well as', 'and', sent)\n",
    "    sent = re.sub('albuterol', ', albuterol,', sent)\n",
    "    sent = re.sub('vitamin b', ', vitamin b,', sent)\n",
    "    sent = re.sub('d ay', 'day', sent)\n",
    "    sent = re.sub('call back', 'call', sent)\n",
    "    sent = re.sub('immunization', ', immunization,', sent)\n",
    "    sent = re.sub('diabetes', ', diabetes,', sent)\n",
    "    sent = re.sub('release', '', sent)\n",
    "    sent = re.sub('vaginal discharge', ', vaginal discharge,', sent)\n",
    "    sent = re.sub('back-up', '', sent)\n",
    "    sent = re.sub('back here', 'here', sent)\n",
    "    sent = re.sub('suspicious', 'suspected', sent)\n",
    "    sent = re.sub('care unit', 'care unit, pacu,', sent)\n",
    "    \n",
    "    return sent\n"
   ]
  },
  {
   "cell_type": "code",
   "execution_count": null,
   "metadata": {},
   "outputs": [],
   "source": []
  },
  {
   "cell_type": "code",
   "execution_count": null,
   "metadata": {},
   "outputs": [],
   "source": []
  },
  {
   "cell_type": "code",
   "execution_count": null,
   "metadata": {},
   "outputs": [],
   "source": []
  },
  {
   "cell_type": "code",
   "execution_count": null,
   "metadata": {},
   "outputs": [],
   "source": []
  },
  {
   "cell_type": "code",
   "execution_count": null,
   "metadata": {},
   "outputs": [],
   "source": []
  },
  {
   "cell_type": "code",
   "execution_count": null,
   "metadata": {},
   "outputs": [],
   "source": []
  },
  {
   "cell_type": "code",
   "execution_count": null,
   "metadata": {},
   "outputs": [],
   "source": []
  },
  {
   "cell_type": "code",
   "execution_count": null,
   "metadata": {},
   "outputs": [],
   "source": []
  },
  {
   "cell_type": "code",
   "execution_count": null,
   "metadata": {},
   "outputs": [],
   "source": []
  },
  {
   "cell_type": "code",
   "execution_count": null,
   "metadata": {},
   "outputs": [],
   "source": []
  },
  {
   "cell_type": "code",
   "execution_count": null,
   "metadata": {},
   "outputs": [],
   "source": []
  },
  {
   "cell_type": "code",
   "execution_count": null,
   "metadata": {},
   "outputs": [],
   "source": []
  },
  {
   "cell_type": "code",
   "execution_count": null,
   "metadata": {},
   "outputs": [],
   "source": []
  },
  {
   "cell_type": "code",
   "execution_count": null,
   "metadata": {},
   "outputs": [],
   "source": []
  },
  {
   "cell_type": "code",
   "execution_count": null,
   "metadata": {},
   "outputs": [],
   "source": []
  },
  {
   "cell_type": "code",
   "execution_count": null,
   "metadata": {},
   "outputs": [],
   "source": []
  },
  {
   "cell_type": "code",
   "execution_count": null,
   "metadata": {},
   "outputs": [],
   "source": []
  },
  {
   "cell_type": "code",
   "execution_count": null,
   "metadata": {},
   "outputs": [],
   "source": []
  },
  {
   "cell_type": "code",
   "execution_count": null,
   "metadata": {},
   "outputs": [],
   "source": []
  },
  {
   "cell_type": "code",
   "execution_count": null,
   "metadata": {},
   "outputs": [],
   "source": []
  },
  {
   "cell_type": "code",
   "execution_count": null,
   "metadata": {},
   "outputs": [],
   "source": []
  }
 ],
 "metadata": {
  "kernelspec": {
   "display_name": "Python 3",
   "language": "python",
   "name": "python3"
  },
  "language_info": {
   "codemirror_mode": {
    "name": "ipython",
    "version": 3
   },
   "file_extension": ".py",
   "mimetype": "text/x-python",
   "name": "python",
   "nbconvert_exporter": "python",
   "pygments_lexer": "ipython3",
   "version": "3.6.8"
  }
 },
 "nbformat": 4,
 "nbformat_minor": 2
}
