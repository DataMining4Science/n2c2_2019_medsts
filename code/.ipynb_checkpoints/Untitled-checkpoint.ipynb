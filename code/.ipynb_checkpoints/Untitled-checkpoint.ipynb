{
 "cells": [
  {
   "cell_type": "code",
   "execution_count": 33,
   "metadata": {},
   "outputs": [],
   "source": [
    "import csv\n",
    "import json\n",
    "import os\n",
    "import argparse\n",
    "import logging\n",
    "import random\n",
    "import numpy as np\n",
    "import re\n",
    "from sklearn.model_selection import KFold"
   ]
  },
  {
   "cell_type": "code",
   "execution_count": 2,
   "metadata": {},
   "outputs": [],
   "source": [
    "random.seed(5)"
   ]
  },
  {
   "cell_type": "code",
   "execution_count": 3,
   "metadata": {},
   "outputs": [],
   "source": [
    "medsts_path = '/home/dc925/project/data/seq_pair/MEDSTS'"
   ]
  },
  {
   "cell_type": "code",
   "execution_count": 203,
   "metadata": {},
   "outputs": [],
   "source": [
    "def preprocess_text(sent):\n",
    "    sent = sent.lower()\n",
    "    sent = re.sub(r'[\\d]*', '', sent)\n",
    "    sent = re.sub(r'[^\\w\\s]', ' ', sent)\n",
    "\n",
    "\n",
    "    return sent"
   ]
  },
  {
   "cell_type": "code",
   "execution_count": 205,
   "metadata": {},
   "outputs": [],
   "source": [
    "k = 6\n"
   ]
  },
  {
   "cell_type": "code",
   "execution_count": 210,
   "metadata": {},
   "outputs": [],
   "source": [
    "original = os.path.join(medsts_path, 'data.jsonl')\n",
    "with open(original, 'r') as f:\n",
    "    lines = []\n",
    "    for line in f:\n",
    "        example = json.loads(line)\n",
    "        example['sentence1'] = preprocess_text(example['sentence1'])\n",
    "        example['sentence2'] = preprocess_text(example['sentence2'])\n",
    "        lines.append(example)\n",
    "    size = len(lines)\n",
    "    \n",
    "    \n",
    "final_fold_path = os.path.join(medsts_path, 'k_fold_{}'.format(k))\n",
    "os.makedirs(final_fold_path, exist_ok=True)\n",
    "train_out = os.path.join(final_fold_path, 'train.jsonl')\n",
    "dev_out = os.path.join(final_fold_path, 'dev.jsonl')\n",
    "random.shuffle(lines)\n",
    "train = lines[:1496]\n",
    "dev = lines[1496:]\n",
    "\n",
    "\n",
    "with open(train_out, 'w') as f:\n",
    "    for line in train:\n",
    "        json.dump(line, fp=f)\n",
    "        f.write('\\n')\n",
    "with open(dev_out, 'w') as f:\n",
    "    for line in dev:\n",
    "        json.dump(line, fp=f)\n",
    "        f.write('\\n')"
   ]
  },
  {
   "cell_type": "code",
   "execution_count": null,
   "metadata": {},
   "outputs": [],
   "source": []
  },
  {
   "cell_type": "code",
   "execution_count": null,
   "metadata": {},
   "outputs": [],
   "source": []
  },
  {
   "cell_type": "code",
   "execution_count": 29,
   "metadata": {},
   "outputs": [],
   "source": [
    "#so that's k_fold_5, finished running data pipeline"
   ]
  },
  {
   "cell_type": "code",
   "execution_count": 32,
   "metadata": {},
   "outputs": [],
   "source": [
    "import pandas as pd"
   ]
  },
  {
   "cell_type": "code",
   "execution_count": 42,
   "metadata": {},
   "outputs": [],
   "source": [
    "logits_dir = '/home/dc925/project/medsts/logits'"
   ]
  },
  {
   "cell_type": "code",
   "execution_count": 84,
   "metadata": {},
   "outputs": [],
   "source": [
    "folds = [0, 1, 2, 3, 4]"
   ]
  },
  {
   "cell_type": "code",
   "execution_count": 85,
   "metadata": {},
   "outputs": [],
   "source": [
    "logits = [pd.read_csv(os.path.join(logits_dir, 'fold_{}_logits.csv'.format(k)), index_col=0) for k in folds]"
   ]
  },
  {
   "cell_type": "code",
   "execution_count": 86,
   "metadata": {},
   "outputs": [
    {
     "data": {
      "text/plain": [
       "5"
      ]
     },
     "execution_count": 86,
     "metadata": {},
     "output_type": "execute_result"
    }
   ],
   "source": [
    "logits.__len__()"
   ]
  },
  {
   "cell_type": "code",
   "execution_count": 87,
   "metadata": {},
   "outputs": [],
   "source": [
    "tables = []"
   ]
  },
  {
   "cell_type": "code",
   "execution_count": 147,
   "metadata": {},
   "outputs": [],
   "source": [
    "k = 2"
   ]
  },
  {
   "cell_type": "code",
   "execution_count": 148,
   "metadata": {},
   "outputs": [
    {
     "name": "stdout",
     "output_type": "stream",
     "text": [
      "5 \t 0.9634510484735883\n",
      "10 \t 0.9655914820313637\n",
      "15 \t 0.9658665893340496\n",
      "0.9658665893340496\n",
      "15\n"
     ]
    }
   ],
   "source": [
    "best_val = 0\n",
    "best_n = 0\n",
    "for n in range(5, 288 * 3 // 5, 5):\n",
    "    ensemble_table = logits[k]\n",
    "    top_cols = ensemble_table.corr().sort_values(by='label', axis=1, ascending=False).columns[1:n+1]\n",
    "    ensemble_table['ensemble'] = ensemble_table[top_cols].mean(axis=1)\n",
    "    val = ensemble_table.corr().iloc[0,-1:].item()\n",
    "    if val > best_val:\n",
    "        best_val = val\n",
    "        best_n = n\n",
    "        print('{} \\t {}'.format(best_n, best_val))\n",
    "print(best_val)\n",
    "print(best_n)\n",
    "top_cols = ensemble_table.corr().sort_values(by='label', axis=1, ascending=False).columns[1:best_n+1]\n",
    "ensemble_table['ensemble'] = ensemble_table[top_cols].mean(axis=1)\n",
    "tables.append(ensemble_table)"
   ]
  },
  {
   "cell_type": "code",
   "execution_count": 63,
   "metadata": {},
   "outputs": [],
   "source": [
    "#now, we want to extract pid:ensemble prediction for each fold and aggregate them across folds\n"
   ]
  },
  {
   "cell_type": "code",
   "execution_count": 98,
   "metadata": {},
   "outputs": [],
   "source": [
    "soft_labels = {}"
   ]
  },
  {
   "cell_type": "code",
   "execution_count": 99,
   "metadata": {},
   "outputs": [],
   "source": [
    "for k in folds:\n",
    "    for pid, pred in tables[k]['ensemble'].items():\n",
    "        pred = round(pred, 4)\n",
    "        if pid in soft_labels:\n",
    "            soft_labels[pid].append(pred)\n",
    "        else:\n",
    "            soft_labels[pid] = [pred]\n"
   ]
  },
  {
   "cell_type": "code",
   "execution_count": 149,
   "metadata": {},
   "outputs": [],
   "source": [
    "soft_labels_ave = {k:round(np.mean(v), 4) for k, v in soft_labels.items()}"
   ]
  },
  {
   "cell_type": "code",
   "execution_count": 154,
   "metadata": {},
   "outputs": [],
   "source": [
    "#read in train.jsonl from k_fold_5 and write in averaged soft label for each example"
   ]
  },
  {
   "cell_type": "code",
   "execution_count": 182,
   "metadata": {},
   "outputs": [
    {
     "data": {
      "text/plain": [
       "1641"
      ]
     },
     "execution_count": 182,
     "metadata": {},
     "output_type": "execute_result"
    }
   ],
   "source": [
    "soft_labels_ave.__len__()"
   ]
  },
  {
   "cell_type": "code",
   "execution_count": 211,
   "metadata": {},
   "outputs": [],
   "source": [
    "train_path = os.path.join(medsts_path, 'k_fold_6/train.jsonl')\n",
    "with open(train_path, 'r') as f:\n",
    "    train = []\n",
    "    for line in f:\n",
    "        example = json.loads(line)\n",
    "        train.append(example)\n",
    "    \n",
    "    "
   ]
  },
  {
   "cell_type": "code",
   "execution_count": 219,
   "metadata": {},
   "outputs": [
    {
     "ename": "KeyError",
     "evalue": "1275",
     "output_type": "error",
     "traceback": [
      "\u001b[0;31m---------------------------------------------------------------------------\u001b[0m",
      "\u001b[0;31mKeyError\u001b[0m                                  Traceback (most recent call last)",
      "\u001b[0;32m<ipython-input-219-a13e107684ca>\u001b[0m in \u001b[0;36m<module>\u001b[0;34m\u001b[0m\n\u001b[0;32m----> 1\u001b[0;31m \u001b[0msoft_labels_ave\u001b[0m\u001b[0;34m[\u001b[0m\u001b[0;36m1275\u001b[0m\u001b[0;34m]\u001b[0m\u001b[0;34m\u001b[0m\u001b[0;34m\u001b[0m\u001b[0m\n\u001b[0m",
      "\u001b[0;31mKeyError\u001b[0m: 1275"
     ]
    }
   ],
   "source": [
    "soft_labels_ave[1275]"
   ]
  },
  {
   "cell_type": "code",
   "execution_count": 220,
   "metadata": {},
   "outputs": [],
   "source": [
    "t = 0\n",
    "for example in train:\n",
    "    for pid, soft_label in soft_labels_ave.items():\n",
    "        if example['pid'] == pid:\n",
    "            t +=1\n",
    "            example['label_soft'] = soft_label\n",
    "    if 'label_soft' not in example:\n",
    "        example['label_soft'] = example['label']"
   ]
  },
  {
   "cell_type": "code",
   "execution_count": 221,
   "metadata": {},
   "outputs": [
    {
     "data": {
      "text/plain": [
       "1495"
      ]
     },
     "execution_count": 221,
     "metadata": {},
     "output_type": "execute_result"
    }
   ],
   "source": [
    "t"
   ]
  },
  {
   "cell_type": "code",
   "execution_count": 180,
   "metadata": {},
   "outputs": [],
   "source": [
    "# for ex in train:\n",
    "#     print('{} \\t {} \\t {}'.format(ex['pid'], ex['label'], ex['label_soft']))"
   ]
  },
  {
   "cell_type": "code",
   "execution_count": 176,
   "metadata": {},
   "outputs": [
    {
     "data": {
      "text/plain": [
       "1.4251"
      ]
     },
     "execution_count": 176,
     "metadata": {},
     "output_type": "execute_result"
    }
   ],
   "source": [
    "soft_labels_ave[871]"
   ]
  },
  {
   "cell_type": "code",
   "execution_count": 222,
   "metadata": {},
   "outputs": [],
   "source": [
    "with open(train_path, 'w') as f:\n",
    "    for line in train:\n",
    "        json.dump(line, fp=f)\n",
    "        f.write('\\n')"
   ]
  },
  {
   "cell_type": "code",
   "execution_count": null,
   "metadata": {},
   "outputs": [],
   "source": []
  }
 ],
 "metadata": {
  "kernelspec": {
   "display_name": "Python 3",
   "language": "python",
   "name": "python3"
  },
  "language_info": {
   "codemirror_mode": {
    "name": "ipython",
    "version": 3
   },
   "file_extension": ".py",
   "mimetype": "text/x-python",
   "name": "python",
   "nbconvert_exporter": "python",
   "pygments_lexer": "ipython3",
   "version": "3.6.8"
  }
 },
 "nbformat": 4,
 "nbformat_minor": 2
}
